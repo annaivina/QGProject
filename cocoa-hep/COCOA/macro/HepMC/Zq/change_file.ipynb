{
 "cells": [
  {
   "cell_type": "code",
   "execution_count": 4,
   "metadata": {},
   "outputs": [],
   "source": [
    "def modify_third_line(file_path,new_path_part):\n",
    "    with open(file_path, 'r') as file:\n",
    "        lines = file.readlines()\n",
    "    if len(lines) >= 3:\n",
    "        third_line = lines[2]  # Accessing the third line (index 2)\n",
    "        if third_line.startswith(\"/generator/hepmc/open\"):\n",
    "            # Modify only the part after '/generator/hepmc/open'\n",
    "            lines[2] = \"/generator/hepmc/open \" + new_path_part + '\\n'\n",
    "        else:\n",
    "            print(f\"The third line in {file_path} doesn't start with '/generator/hepmc/open'\")\n",
    "    else:\n",
    "        print(f\"The file {file_path} doesn't have at least 3 lines!\")\n",
    "        return\n",
    "\n",
    "\n",
    "\n",
    "    with open(file_path, 'w') as file:\n",
    "        file.writelines(lines)\n",
    "    print(f\"Updated third line in {file_path}\")"
   ]
  },
  {
   "cell_type": "code",
   "execution_count": 10,
   "metadata": {},
   "outputs": [],
   "source": [
    "for i in range(398,340):\n",
    "    file_path = f\"/srv01/agrp/annai/annai/QURK-GLUON/COCOA/Patrick_Dev_Br/cocoa-hep/COCOA/macro/HepMC/Zq/hepmc_Zjets_{i}.in\"\n",
    "    new_path=f\"/storage/agrp/annai/QURK-GLUON/samples_produce/Pythia_Zqjets/500GeVjets/pythia_Zq_pT500_Seed{i}.root\"\n",
    "    modify_third_line(file_path,new_path)\n"
   ]
  }
 ],
 "metadata": {
  "kernelspec": {
   "display_name": "Python 3",
   "language": "python",
   "name": "python3"
  },
  "language_info": {
   "codemirror_mode": {
    "name": "ipython",
    "version": 3
   },
   "file_extension": ".py",
   "mimetype": "text/x-python",
   "name": "python",
   "nbconvert_exporter": "python",
   "pygments_lexer": "ipython3",
   "version": "3.11.9"
  }
 },
 "nbformat": 4,
 "nbformat_minor": 2
}
