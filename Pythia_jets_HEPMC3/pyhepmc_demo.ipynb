{
 "cells": [
  {
   "cell_type": "code",
   "execution_count": 1,
   "id": "af6c7a38",
   "metadata": {},
   "outputs": [
    {
     "data": {
      "application/javascript": "IPython.notebook.get_cells().map( function(c) {  return c.code_mirror.options.cursorBlinkRate=0;  } );\nCodeMirror.defaults.cursorBlinkRate=0;\n",
      "text/plain": [
       "<IPython.core.display.Javascript object>"
      ]
     },
     "metadata": {},
     "output_type": "display_data"
    }
   ],
   "source": [
    "%%javascript\n",
    "IPython.notebook.get_cells().map( function(c) {  return c.code_mirror.options.cursorBlinkRate=0;  } );\n",
    "CodeMirror.defaults.cursorBlinkRate=0;"
   ]
  },
  {
   "cell_type": "code",
   "execution_count": 2,
   "id": "72ef1883",
   "metadata": {},
   "outputs": [],
   "source": [
    "import matplotlib.pyplot as plt\n",
    "import numpy as np\n",
    "\n",
    "%matplotlib inline\n",
    "plt.rcParams[\"figure.figsize\"] = (10.0, 8.0)  # set default size of plots\n",
    "plt.rcParams[\"image.interpolation\"] = \"nearest\"\n",
    "plt.rcParams[\"image.cmap\"] = \"gray\"\n",
    "plt.rcParams[\"figure.facecolor\"] = \"White\"\n",
    "plt.rcParams[\"font.size\"] = 8"
   ]
  },
  {
   "cell_type": "markdown",
   "id": "dc33930a",
   "metadata": {},
   "source": [
    "# Using pyhepmc\n",
    "\n",
    "Looking into jet events generated with pythia:\n",
    "\n",
    "* Read hepmc2 ascii file\n",
    "* Jet clustering\n",
    "* Plotting of particles and jets for a few events, select events where there is a jet within the acceptance"
   ]
  },
  {
   "cell_type": "code",
   "execution_count": 3,
   "id": "0c6adf6e",
   "metadata": {},
   "outputs": [],
   "source": [
    "import pyhepmc\n",
    "#from pyhepmc.view import savefig\n",
    "\n",
    "# in_file_name = \"/home/pat/physics/scd/pythia8306/examples/pythia8_darkJets_test_mZp0p2_1k.hmc\"\n",
    "# in_file_name = \"/home/pat/physics/scd/pythia8306/examples/pythia8_tautau_ptBias_1k.hmc\"\n",
    "#in_file_name = \"/home/pat/physics/scd/pythia8306/examples/pythia8_dijets_partonPtMin100_5_mg5Input_rndSeed2.hmc\"\n",
    "in_file_name = \"/srv01/agrp/annai/annai/QURK-GLUON/samples_produce/Pythia_Zqjets/pythia8_Zqjets_Seed10.hepmc\"\n",
    "\n",
    "in_file = pyhepmc.open(\n",
    "    #\"/home/pat/physics/scd/pythia8306/examples/pythia8_darkJets_test_1k.hmc\"\n",
    "    in_file_name\n",
    ")\n",
    "event = in_file.read()\n",
    "event = in_file.read()\n",
    "event = in_file.read()\n",
    "#savefig(event, \"event.eps\")\n",
    "event"
   ]
  },
  {
   "cell_type": "code",
   "execution_count": 4,
   "id": "6f15fa63",
   "metadata": {},
   "outputs": [],
   "source": [
    "def get_pt_rapidity_phi(event):\n",
    "    particles = event.particles\n",
    "    final_state_indices = np.where( [ p.status == 1 for p in particles ] )[0]\n",
    "    px_all = np.array( [ particles[i].momentum.px for i in final_state_indices ] )\n",
    "    py_all = np.array( [ particles[i].momentum.py for i in final_state_indices ] )\n",
    "    pz_all = np.array( [ particles[i].momentum.pz for i in final_state_indices ] )\n",
    "    e_all  = np.array( [ particles[i].momentum.e  for i in final_state_indices ] )\n",
    "    pt = np.sqrt(\n",
    "        px_all**2 + py_all**2\n",
    "    )\n",
    "    phi = np.arctan2(py_all, px_all)\n",
    "    rapidity = 0.5 * np.log(\n",
    "        (e_all + pz_all)\n",
    "        / (e_all - pz_all)\n",
    "    )\n",
    "    return pt, rapidity, phi"
   ]
  },
  {
   "cell_type": "markdown",
   "id": "e1d7de71",
   "metadata": {},
   "source": [
    "## Select and plot events where there are jets within the acceptance "
   ]
  },
  {
   "cell_type": "code",
   "execution_count": 13,
   "id": "5f15df9f",
   "metadata": {
    "scrolled": true
   },
   "outputs": [
    {
     "data": {
      "text/plain": [
       "[False]"
      ]
     },
     "execution_count": 13,
     "metadata": {},
     "output_type": "execute_result"
    }
   ],
   "source": [
    "from dijets import jet_selection\n",
    "from dijets.event_selection import select_events\n",
    "\n",
    "event_mask = select_events(\n",
    "    in_file_name,\n",
    "    10.0,\n",
    "    3.0,\n",
    "    0.4,\n",
    "    10,\n",
    ")\n",
    "event_mask"
   ]
  },
  {
   "cell_type": "code",
   "execution_count": 10,
   "id": "e3f4d7eb",
   "metadata": {},
   "outputs": [
    {
     "data": {
      "text/plain": [
       "<Figure size 720x576 with 0 Axes>"
      ]
     },
     "metadata": {},
     "output_type": "display_data"
    }
   ],
   "source": [
    "import pyhepmc\n",
    "# from pyhepmc.view import savefig\n",
    "from dijets.jet_selection import get_jets, get_jets_eta\n",
    "from dijets.event_selection import select_events\n",
    "\n",
    "pt_jet_min_gev = 10.0\n",
    "eta_abs_jet_max = 3.0\n",
    "dR_jets_akt = 0.4\n",
    "n_max_events_print = 4\n",
    "\n",
    "in_file = pyhepmc.open(\n",
    "    in_file_name\n",
    ")\n",
    "# event_mask = select_events( \"/home/pat/physics/scd/pythia8306/examples/pythia8_dijets_partonPtMin100_100k.hmc\",\n",
    "#                            \"dijet_partonPtMin100_100k_selection.hmc\",\n",
    "#                            pt_jet_min_gev,\n",
    "#                            eta_abs_jet_max,\n",
    "#                            dR_jets_akt )\n",
    "\n",
    "n_max_events = 4\n",
    "#in_file = pyhepmc.open(\"dijet_partonPtMin100_100k_selection.hmc\")\n",
    "\n",
    "jets_all_n = np.array([])\n",
    "jets_all_pt = np.array([])\n",
    "jets_all_eta = np.array([])\n",
    "jets_all_phi = np.array([])\n",
    "\n",
    "n_events_print = 1\n",
    "n_events_select = 0\n",
    "n_offset = 5\n",
    "\n",
    "for i_event, event in enumerate(in_file):\n",
    "    if i_event < n_offset:\n",
    "        continue\n",
    "    if n_events_select == n_max_events:\n",
    "        break\n",
    "    if i_event % 1 == 0:\n",
    "        print(\"Analysing event {}\".format(i_event))\n",
    "    if not event_mask[i_event]:\n",
    "        continue\n",
    "    n_events_select += 1\n",
    "\n",
    "    jets = get_jets(event, pt_jet_min_gev, eta_abs_jet_max, dR_jets_akt)\n",
    "    if not len(jets):\n",
    "        continue\n",
    "    jets_pt = np.sqrt(jets.px**2 + jets.py**2)\n",
    "    jets_eta = get_jets_eta(jets)\n",
    "    jets_phi = np.arctan2(jets.py, jets.px)\n",
    "\n",
    "    leading_jet_only = True\n",
    "    if leading_jet_only:\n",
    "        \n",
    "        i_lead_jet = np.argmax(jets_pt)\n",
    "    \n",
    "        #  jets_all_pt  = np.append( jets_all_pt, np.sort( jets_pt )[::-1][:2] )\n",
    "        jets_all_n = np.append(jets_all_n, len(jets))\n",
    "        jets_all_pt = np.append(jets_all_pt, jets_pt[i_lead_jet])\n",
    "        jets_all_eta = np.append(jets_all_eta, jets_eta[i_lead_jet])\n",
    "        jets_all_phi = np.append(jets_all_phi, jets_phi[i_lead_jet])\n",
    "\n",
    "    else:\n",
    "        jets_all_n = np.append(jets_all_n, len(jets))\n",
    "        jets_all_pt = np.append(jets_all_pt, jets_pt)\n",
    "        jets_all_eta = np.append(jets_all_eta, jets_eta)\n",
    "        jets_all_phi = np.append(jets_all_phi, jets_phi)\n",
    "    \n",
    "    if n_events_print < n_max_events_print:\n",
    "\n",
    "        ax = plt.subplot(n_max_events_print // 2 + int(n_max_events_print % 2 != 0), 2, n_events_print + 1)\n",
    "        ax.set(xlabel=\"rapidity\", ylabel=r\"$\\varphi$\")\n",
    "        ax.set_xlim(-eta_abs_jet_max, eta_abs_jet_max)\n",
    "        pt, rapidity, phi = get_pt_rapidity_phi(event)\n",
    "        plt.scatter(rapidity, phi, s=pt * 0.1)\n",
    "\n",
    "        for i_jet in range(len(jets)):\n",
    "            jet_circle = plt.Circle(\n",
    "                (jets_eta[i_jet], jets_phi[i_jet]), dR_jets_akt, color=\"r\", fill=False\n",
    "            )\n",
    "            ax.add_patch(jet_circle)\n",
    "            plt.text(\n",
    "                jets_eta[i_jet] + dR_jets_akt + 0.1,\n",
    "                jets_phi[i_jet] - 0.25 * dR_jets_akt,\n",
    "                \"{0:.0f}\".format(jets_pt[i_jet]),\n",
    "                fontsize=10,\n",
    "                color=\"r\",\n",
    "            )\n",
    "        n_events_print += 1\n",
    "\n",
    "plt.tight_layout()\n",
    "plt.savefig(\"dijets_eta_phi.png\")\n",
    "plt.show()"
   ]
  },
  {
   "cell_type": "code",
   "execution_count": 11,
   "id": "9b88e47c",
   "metadata": {},
   "outputs": [
    {
     "name": "stderr",
     "output_type": "stream",
     "text": [
      "/srv01/agrp/annai/.local/lib/python3.8/site-packages/numpy/lib/histograms.py:905: RuntimeWarning: invalid value encountered in true_divide\n",
      "  return n/db/n.sum(), bin_edges\n",
      "/srv01/agrp/annai/.local/lib/python3.8/site-packages/numpy/core/fromnumeric.py:3372: RuntimeWarning: Mean of empty slice.\n",
      "  return _methods._mean(a, axis=axis, dtype=dtype,\n",
      "/srv01/agrp/annai/.local/lib/python3.8/site-packages/numpy/core/_methods.py:170: RuntimeWarning: invalid value encountered in double_scalars\n",
      "  ret = ret.dtype.type(ret / rcount)\n",
      "/srv01/agrp/annai/.local/lib/python3.8/site-packages/numpy/core/_methods.py:233: RuntimeWarning: Degrees of freedom <= 0 for slice\n",
      "  ret = _var(a, axis=axis, dtype=dtype, out=out, ddof=ddof,\n",
      "/srv01/agrp/annai/.local/lib/python3.8/site-packages/numpy/core/_methods.py:194: RuntimeWarning: invalid value encountered in true_divide\n",
      "  arrmean = um.true_divide(\n",
      "/srv01/agrp/annai/.local/lib/python3.8/site-packages/numpy/core/_methods.py:226: RuntimeWarning: invalid value encountered in double_scalars\n",
      "  ret = ret.dtype.type(ret / rcount)\n",
      "/srv01/agrp/annai/.local/lib/python3.8/site-packages/numpy/lib/histograms.py:905: RuntimeWarning: invalid value encountered in true_divide\n",
      "  return n/db/n.sum(), bin_edges\n",
      "/srv01/agrp/annai/.local/lib/python3.8/site-packages/numpy/lib/histograms.py:905: RuntimeWarning: invalid value encountered in true_divide\n",
      "  return n/db/n.sum(), bin_edges\n",
      "/srv01/agrp/annai/.local/lib/python3.8/site-packages/numpy/lib/histograms.py:905: RuntimeWarning: invalid value encountered in true_divide\n",
      "  return n/db/n.sum(), bin_edges\n"
     ]
    },
    {
     "name": "stdout",
     "output_type": "stream",
     "text": [
      "nan\n",
      "nan\n"
     ]
    },
    {
     "data": {
      "image/png": "[encoded data removed]",
      "text/plain": [
       "<Figure size 720x576 with 4 Axes>"
      ]
     },
     "metadata": {},
     "output_type": "display_data"
    }
   ],
   "source": [
    "fig, axs = plt.subplots(1, 4, subplot_kw=dict(box_aspect=1))\n",
    "\n",
    "ax = plt.subplot(1, 4, 1)\n",
    "ax.hist(jets_all_n, histtype=\"step\", density=True, bins=np.arange(0.5, 5.5, 1))\n",
    "ax.set(xlabel=r\"$N_{\\mathrm{Jets}}$ [GeV]\", ylabel=\"PDF\")\n",
    "ax.grid(True)\n",
    "print(np.mean(jets_all_n))\n",
    "print(np.std(jets_all_n))\n",
    "\n",
    "ax = plt.subplot(1, 4, 2)\n",
    "ax.hist(\n",
    "    jets_all_pt * 1e-3, histtype=\"step\", density=True, bins=np.linspace(0.0, 150.0, 20)\n",
    ")\n",
    "ax.set(xlabel=r\"$p_{\\mathrm{T}}$ [GeV]\", ylabel=\"PDF\")\n",
    "ax.grid(True)\n",
    "\n",
    "ax = plt.subplot(1, 4, 3)\n",
    "ax.hist(jets_all_eta, histtype=\"step\", density=True)\n",
    "ax.set(xlabel=\"rapidity\", ylabel=\"PDF\")\n",
    "ax.grid(True)\n",
    "\n",
    "ax = plt.subplot(1, 4, 4)\n",
    "ax.hist(jets_all_phi, histtype=\"step\", density=True)\n",
    "ax.set(xlabel=r\"$\\varphi$\", ylabel=\"PDF\")\n",
    "ax.grid(True)\n",
    "\n",
    "plt.tight_layout()\n",
    "plt.savefig(\"dijets_pt_eta_phi_1d.png\")\n",
    "plt.show()"
   ]
  },
  {
   "cell_type": "code",
   "execution_count": null,
   "id": "bef08307",
   "metadata": {},
   "outputs": [],
   "source": []
  },
  {
   "cell_type": "code",
   "execution_count": null,
   "id": "383b83e7",
   "metadata": {},
   "outputs": [],
   "source": []
  }
 ],
 "metadata": {
  "kernelspec": {
   "display_name": "base",
   "language": "python",
   "name": "python3"
  },
  "language_info": {
   "codemirror_mode": {
    "name": "ipython",
    "version": 3
   },
   "file_extension": ".py",
   "mimetype": "text/x-python",
   "name": "python",
   "nbconvert_exporter": "python",
   "pygments_lexer": "ipython3",
   "version": "3.8.6"
  }
 },
 "nbformat": 4,
 "nbformat_minor": 5
}
