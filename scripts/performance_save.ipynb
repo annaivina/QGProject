{
 "cells": [
  {
   "cell_type": "code",
   "execution_count": 1,
   "metadata": {},
   "outputs": [],
   "source": [
    "%load_ext autoreload\n",
    "%autoreload 2"
   ]
  },
  {
   "cell_type": "code",
   "execution_count": 2,
   "metadata": {},
   "outputs": [],
   "source": [
    "import sys\n",
    "sys.path.append('/srv01/agrp/annai/annai/QURK-GLUON/samples_produce/Cocoa/Segmentation_HGPFlow/HGPflow')\n",
    "\n",
    "import numpy as np\n",
    "import numpy as np\n",
    "import matplotlib.pyplot as plt\n",
    "\n",
    "#import hgpflow_v2.performance # don't know why this is needed, but it is\n",
    "from performance.performance import Performance\n",
    "from copy import deepcopy"
   ]
  },
  {
   "cell_type": "code",
   "execution_count": 5,
   "metadata": {},
   "outputs": [],
   "source": [
    "# COCOA- Pythia\n",
    "truth_path = \"/srv01/agrp/annai/annai/QURK-GLUON/samples_produce/Cocoa/Cocoa_Zjets/500GeVPythiaZq/cocoa_Zjets_500GeV_Pythia_job124_Pseed124_Cseed124_1000events_skim.root\"\n",
    "pred_path = \"/srv01/agrp/annai/annai/QURK-GLUON/samples_produce/Cocoa/HGPFLOW_v2/experiments/hgpflow_v2/cocoapythia500gevxs2xxx9a56ipcxj/inference/500GeVPythiaZq/pred_cocoa_Pythia_Zq_chunk_124_seg_merged.root\"\n",
    "\n",
    "#Cocoa - Herwig\n",
    "#truth_path = \"\"\n",
    "#pred_path = \"\"\n",
    "\n",
    "\n",
    "filepath_reference = \"\"\n",
    "save_dir = '/srv01/agrp/annai/annai/QURK-GLUON/samples_produce/Cocoa/HGPFLOW_v2/hgpflow_v2/tests/'\n",
    "jet_radius = 0.4\n",
    "detector = 'COCOA'\n",
    "\n",
    "hung_matching = False\n",
    "jet_clustering = True\n",
    "compute_substructure = False\n",
    "ind_threshold = 0.50\n",
    "\n",
    "#n_events = 41380\n",
    "n_events = -1\n",
    "enum_offset = 0\n",
    "\n"
   ]
  },
  {
   "cell_type": "code",
   "execution_count": 6,
   "metadata": {},
   "outputs": [
    {
     "name": "stdout",
     "output_type": "stream",
     "text": [
      "loading inference data... done\n",
      "loading truth data... \u001b[96mE, pT will be scaled by 0.001\u001b[0m\n"
     ]
    },
    {
     "name": "stderr",
     "output_type": "stream",
     "text": [
      "Computing modified truth particle class...: 100%|██████████| 1000/1000 [00:00<00:00, 18933.35it/s]\n",
      "Applying fiducial cuts...: 100%|██████████| 1000/1000 [00:00<00:00, 4577.38it/s]\n"
     ]
    },
    {
     "name": "stdout",
     "output_type": "stream",
     "text": [
      "done\n",
      "Jet clustering algorithm:  antikt\n",
      "Jet clustering radius:  0.4\n"
     ]
    },
    {
     "name": "stderr",
     "output_type": "stream",
     "text": [
      "Computing jets...:   2%|▏         | 16/1000 [00:00<00:17, 55.71it/s]"
     ]
    },
    {
     "name": "stdout",
     "output_type": "stream",
     "text": [
      "#--------------------------------------------------------------------------\n",
      "#                         FastJet release 3.4.0\n",
      "#                 M. Cacciari, G.P. Salam and G. Soyez                  \n",
      "#     A software package for jet finding and analysis at colliders      \n",
      "#                           http://fastjet.fr                           \n",
      "#\t                                                                      \n",
      "# Please cite EPJC72(2012)1896 [arXiv:1111.6097] if you use this package\n",
      "# for scientific work and optionally PLB641(2006)57 [hep-ph/0512210].   \n",
      "#                                                                       \n",
      "# FastJet is provided without warranty under the GNU GPL v2 or higher.  \n",
      "# It uses T. Chan's closest pair algorithm, S. Fortune's Voronoi code,\n",
      "# CGAL and 3rd party plugin jet algorithms. See COPYING file for details.\n",
      "#--------------------------------------------------------------------------\n"
     ]
    },
    {
     "name": "stderr",
     "output_type": "stream",
     "text": [
      "Computing jets...: 100%|██████████| 1000/1000 [00:06<00:00, 151.85it/s]\n",
      "Computing jets...: 100%|██████████| 1000/1000 [00:11<00:00, 85.52it/s]\n",
      "Computing jets...: 100%|██████████| 1000/1000 [00:08<00:00, 113.75it/s]\n",
      "Computing jets...: 100%|██████████| 1000/1000 [00:07<00:00, 137.76it/s]\n",
      "Computing jets...: 100%|██████████| 1000/1000 [00:07<00:00, 138.91it/s]\n",
      "Computing jets...: 100%|██████████| 1000/1000 [00:00<00:00, 1502.56it/s]\n",
      "Matching jets...: 100%|██████████| 1000/1000 [00:00<00:00, 4441.54it/s]\n",
      "Matching jets...: 100%|██████████| 1000/1000 [00:00<00:00, 34000.79it/s]\n",
      "Matching jets...: 100%|██████████| 1000/1000 [00:00<00:00, 34191.77it/s]\n",
      "Matching jets...: 100%|██████████| 1000/1000 [00:00<00:00, 32816.46it/s]\n",
      "Matching jets...: 100%|██████████| 1000/1000 [00:00<00:00, 31274.64it/s]\n"
     ]
    }
   ],
   "source": [
    "perf = Performance(truth_path, pred_path, hung_matching=hung_matching, jet_clustering=jet_clustering, compute_substructure=compute_substructure, jet_radius=jet_radius, detector=detector, n_events=n_events, enum_offset=enum_offset, ind_threshold=ind_threshold, filepath_reference=filepath_reference,chunk=124)"
   ]
  },
  {
   "cell_type": "markdown",
   "metadata": {},
   "source": []
  },
  {
   "cell_type": "code",
   "execution_count": 26,
   "metadata": {},
   "outputs": [
    {
     "name": "stdout",
     "output_type": "stream",
     "text": [
      "Original jet number 3233\n",
      "Total number of jets1491\n",
      "Total number of gluon jets1717\n",
      "[ 2 21 21 ... 21  5  3]\n"
     ]
    },
    {
     "data": {
      "text/plain": [
       "<matplotlib.legend.Legend at 0x7fcec5730f10>"
      ]
     },
     "execution_count": 26,
     "metadata": {},
     "output_type": "execute_result"
    },
    {
     "data": {
      "image/png": "[encoded data removed]",
      "text/plain": [
       "<Figure size 640x480 with 1 Axes>"
      ]
     },
     "metadata": {},
     "output_type": "display_data"
    }
   ],
   "source": [
    "# Sample data structure for illustration purposes - You dont need to run it \n",
    "truth_jets_data = perf.truth_hgpflow_jets_matched_dict['truth']\n",
    "reco_jets_data  = perf.truth_hgpflow_jets_matched_dict['reco']\n",
    "\n",
    "truth_jet_ids = truth_jets_data[\"jet_id\"]\n",
    "reco_jet_ids  = reco_jets_data[\"jet_id\"]\n",
    "reco_jets_data[\"jet_id\"] = truth_jet_ids\n",
    "\n",
    "# Convert lists to numpy arrays for boolean indexing\n",
    "jet_ids = np.array(reco_jets_data['jet_id'])\n",
    "jet_pts = np.array(reco_jets_data['pt'])\n",
    "print(\"Original jet number \"+str(len(jet_pts)))\n",
    "\n",
    "# Create a mask for jet_id values 1, 2, or 3\n",
    "mask = ((jet_ids == 1) | (jet_ids == 2) | (jet_ids == 3) | (jet_ids == 4) | (jet_ids == 5))\n",
    "maskg = jet_ids == 21\n",
    "# Filter jet_pt values using the mask\n",
    "filtered_jet_pts = jet_pts[mask]\n",
    "filtered_jet_ptsg = jet_pts[maskg]\n",
    "print(\"Total number of jets\"+str(len(filtered_jet_pts)))\n",
    "print(\"Total number of gluon jets\"+str(len(filtered_jet_ptsg)))\n",
    "\n",
    "print(jet_ids)\n",
    "#Plot all jets \n",
    "plt.hist(reco_jets_data[\"pt\"], bins=50, alpha=0.5, label='All jet_pT')\n",
    "plt.hist(filtered_jet_pts, bins=50, alpha=0.5, label='Light jet_pT')\n",
    "plt.hist(filtered_jet_ptsg, bins=50, alpha=0.5, label='Gluon jet_pT')\n",
    "\n",
    "# Adding titles and labels\n",
    "plt.title('HGPFlow jet pT')\n",
    "plt.xlabel('jet_pt')\n",
    "plt.ylabel('Events')\n",
    "plt.legend()\n",
    "\n"
   ]
  },
  {
   "cell_type": "code",
   "execution_count": 13,
   "metadata": {},
   "outputs": [
    {
     "data": {
      "image/png": "[encoded data removed]",
      "text/plain": [
       "<Figure size 1000x600 with 1 Axes>"
      ]
     },
     "metadata": {},
     "output_type": "display_data"
    }
   ],
   "source": [
    "import matplotlib.cm as cm\n",
    "filtered_jet_indices = np.where(mask)[0]\n",
    "\n",
    "colors = cm.rainbow(np.linspace(0, 1, 10))\n",
    "\n",
    "count = 0 \n",
    "plt.figure(figsize=(10, 6))\n",
    "\n",
    "for idx in filtered_jet_indices:\n",
    "    if count>=10:\n",
    "        break\n",
    "    jet_id = reco_jets_data['jet_id'][idx]\n",
    "    const_eta = reco_jets_data['constituents_eta'][idx]\n",
    "    const_phi = reco_jets_data['constituents_phi'][idx]\n",
    "    plt.scatter(const_eta, const_phi, alpha=0.5, color=colors[count], label=f'Jet ID: {jet_id}')\n",
    "    count+=1\n",
    "\n",
    "plt.xlim(-2.5,2.5)\n",
    "plt.ylim(-4,4)\n",
    "plt.xlabel('Eta')\n",
    "plt.ylabel('Phi')\n",
    "plt.title('Constituents of the First 10 Jets')\n",
    "plt.legend()\n",
    "plt.show()"
   ]
  },
  {
   "cell_type": "code",
   "execution_count": 14,
   "metadata": {},
   "outputs": [],
   "source": [
    "#Lets save now the X and Y variables of the jets and its constitutents \n",
    "\n",
    "def process_file(truth_data_path,pred_data_path,jet_type,fileN):\n",
    "    perf = Performance(truth_data_path, pred_data_path, hung_matching=hung_matching, jet_clustering=jet_clustering, compute_substructure=compute_substructure, jet_radius=jet_radius, detector=detector, n_events=n_events, enum_offset=enum_offset, ind_threshold=ind_threshold, filepath_reference=filepath_reference,chunk=fileN)\n",
    "\n",
    "   \n",
    "    #Now lets manipulate a bit data \n",
    "    truth_jets = perf.truth_hgpflow_jets_matched_dict['truth']\n",
    "    reco_jets   = perf.truth_hgpflow_jets_matched_dict['reco']\n",
    "    \n",
    "    truth_jet_ids = truth_jets[\"jet_id\"]\n",
    "    reco_jets[\"jet_id\"] = truth_jet_ids\n",
    "    \n",
    "    # Convert lists to numpy arrays for boolean indexing\n",
    "    jet_ids = np.array(reco_jets['jet_id'])\n",
    "    jet_pts = np.array(reco_jets['pt'])\n",
    "\n",
    "    # Create a mask for jet_id values 1, 2, or 3\n",
    "    \n",
    "    if jet_type==1 :\n",
    "        mask = ((jet_ids == 1) | (jet_ids == 2) | (jet_ids == 3)) & (jet_pts>100)\n",
    "    else:\n",
    "        mask = (jet_ids == 21) & (jet_pts>100)\n",
    "\n",
    "    # Filter jet_pt values using the mask\n",
    "    filtered_jet_indices = np.where(mask)[0]\n",
    "    total_jets = len(filtered_jet_indices)\n",
    "    max_num_particles = max(len(constituents) for constituents in reco_jets['constituents_eta'])\n",
    "    print(\"Total Number of constituents is \" + str(max_num_particles))\n",
    "    print(\"Total Number of jets \" + str(total_jets))\n",
    "\n",
    "\n",
    "    #Initialize X and y which will be saved later \n",
    "    X = np.zeros((total_jets, 100, 4))\n",
    "    \n",
    "    if jet_type==1:\n",
    "        y = np.ones(total_jets)  # Initialize Y with ones since all are light quark jets\n",
    "    else:\n",
    "        y = np.zeros(total_jets)  # Initialize Y with zeroes if those are gluon jets\n",
    "\n",
    "    for i,idx in enumerate(filtered_jet_indices):\n",
    "       \n",
    "        const_eta = reco_jets['constituents_eta'][idx]\n",
    "        const_phi = reco_jets['constituents_phi'][idx]\n",
    "        const_pt  = reco_jets['constituents_pt'][idx]\n",
    "        const_pid = reco_jets['constituents_class'][idx]\n",
    "\n",
    "        num_particles = len(const_eta)\n",
    "\n",
    "         # Fill the values for this jet into the corresponding slice of X\n",
    "        X[i, :num_particles, 0] = const_pt\n",
    "        X[i, :num_particles, 1] = const_eta\n",
    "        X[i, :num_particles, 2] = const_phi\n",
    "        X[i, :num_particles, 3] = const_pid\n",
    "\n",
    "\n",
    "    return X, y"
   ]
  },
  {
   "cell_type": "code",
   "execution_count": 15,
   "metadata": {},
   "outputs": [],
   "source": [
    "def save_to_npz(X, y, output_file):\n",
    "    print(\"saving outputs to the npz file\")\n",
    "    np.savez(output_file, X=X, y=y)"
   ]
  },
  {
   "cell_type": "code",
   "execution_count": 27,
   "metadata": {},
   "outputs": [
    {
     "name": "stdout",
     "output_type": "stream",
     "text": [
      "loading inference data... done\n",
      "loading truth data... \u001b[96mE, pT will be scaled by 0.001\u001b[0m\n"
     ]
    },
    {
     "name": "stderr",
     "output_type": "stream",
     "text": [
      "Computing modified truth particle class...: 100%|██████████| 1000/1000 [00:00<00:00, 18806.51it/s]\n",
      "Applying fiducial cuts...: 100%|██████████| 1000/1000 [00:00<00:00, 4958.13it/s]\n"
     ]
    },
    {
     "name": "stdout",
     "output_type": "stream",
     "text": [
      "done\n",
      "Jet clustering algorithm:  antikt\n",
      "Jet clustering radius:  0.4\n"
     ]
    },
    {
     "name": "stderr",
     "output_type": "stream",
     "text": [
      "Computing jets...: 100%|██████████| 1000/1000 [00:06<00:00, 163.62it/s]\n",
      "Computing jets...: 100%|██████████| 1000/1000 [00:11<00:00, 88.12it/s]\n",
      "Computing jets...: 100%|██████████| 1000/1000 [00:08<00:00, 115.38it/s]\n",
      "Computing jets...: 100%|██████████| 1000/1000 [00:07<00:00, 141.15it/s]\n",
      "Computing jets...: 100%|██████████| 1000/1000 [00:07<00:00, 139.83it/s]\n",
      "Computing jets...: 100%|██████████| 1000/1000 [00:00<00:00, 1507.12it/s]\n",
      "Matching jets...: 100%|██████████| 1000/1000 [00:00<00:00, 31082.73it/s]\n",
      "Matching jets...: 100%|██████████| 1000/1000 [00:00<00:00, 33474.63it/s]\n",
      "Matching jets...: 100%|██████████| 1000/1000 [00:00<00:00, 32706.67it/s]\n",
      "Matching jets...: 100%|██████████| 1000/1000 [00:00<00:00, 32946.37it/s]\n",
      "Matching jets...: 100%|██████████| 1000/1000 [00:00<00:00, 32151.59it/s]\n"
     ]
    },
    {
     "name": "stdout",
     "output_type": "stream",
     "text": [
      "Total Number of constituents is 64\n",
      "Total Number of jets 991\n",
      "saving outputs to the npz file\n",
      "done the file number :111\n"
     ]
    }
   ],
   "source": [
    "for file_n in range(111, 112):\n",
    "    #Pythia samples\n",
    "    truth_path = f\"/srv01/agrp/annai/annai/QURK-GLUON/samples_produce/Cocoa/Cocoa_Zjets/500GeVPythiaZq/cocoa_Zjets_500GeV_Pythia_job{file_n}_Pseed{file_n}_Cseed{file_n}_1000events_skim.root\"\n",
    "    pred_path = f\"/srv01/agrp/annai/annai/QURK-GLUON/samples_produce/Cocoa/HGPFLOW_v2/experiments/hgpflow_v2/cocoapythia500gevxs2xxx9a56ipcxj/inference/500GeVPythiaZq/pred_cocoa_Pythia_Zq_chunk_{file_n}_seg_merged.root\"\n",
    "    filepath_reference = \"\"\n",
    "    save_dir_out = f'/srv01/agrp/annai/annai/QURK-GLUON/samples_produce/Cocoa/HGPFLOW_v2/hgpflow_v2/tests/test.npz'\n",
    "    jet_radius = 0.4\n",
    "    detector = 'COCOA'\n",
    "    \n",
    "    hung_matching = False\n",
    "    jet_clustering = True\n",
    "    compute_substructure = False\n",
    "    ind_threshold = 0.50\n",
    "    \n",
    "    n_events = -1\n",
    "    enum_offset = 0\n",
    "    jet_type=1 #here jet type 0 for gluon samples and type 1 fror quark samples dont forget to change!!\n",
    "    X,y = process_file(truth_path,pred_path,jet_type,file_n)\n",
    "    save_to_npz(X,y,save_dir_out)\n",
    "    print(\"done the file number :\" + str(file_n))"
   ]
  },
  {
   "cell_type": "code",
   "execution_count": null,
   "metadata": {},
   "outputs": [],
   "source": [
    "def load_data(files):\n",
    "    data = np.load(files)\n",
    "    X = data['X']\n",
    "    y = data['y']\n",
    "    return X, y"
   ]
  },
  {
   "cell_type": "code",
   "execution_count": null,
   "metadata": {},
   "outputs": [],
   "source": [
    "#Now need to take all files and shuffle them \n",
    "def shuffle_data(X, y):\n",
    "    X_shuffled, y_shuffled = shuffle(X, y, random_state=42)\n",
    "    return X_shuffled, y_shuffled"
   ]
  },
  {
   "cell_type": "code",
   "execution_count": null,
   "metadata": {},
   "outputs": [],
   "source": [
    "def save_shuffled_data(X, y, output_prefix, jets_per_file):\n",
    "    total_jets = X.shape[0]\n",
    "    num_files = (total_jets + jets_per_file - 1) // jets_per_file  # Calculate number of files needed\n",
    "    \n",
    "    for i in range(num_files):\n",
    "        start_index = i * jets_per_file\n",
    "        end_index = min(start_index + jets_per_file, total_jets)\n",
    "        X_part = X[start_index:end_index]\n",
    "        y_part = y[start_index:end_index]\n",
    "        output_file = f\"{output_prefix}_{i}.npz\"\n",
    "        np.savez(output_file, X=X_part, y=y_part)\n",
    "        print(f\"Saved {output_file} with {X_part.shape[0]} jets\")"
   ]
  },
  {
   "cell_type": "code",
   "execution_count": null,
   "metadata": {},
   "outputs": [],
   "source": [
    "# Example usage\n",
    "from sklearn.utils import shuffle\n",
    "for file in range(1,18):\n",
    "    quark_files = f\"inputs_to_NP/herwig/pred_Zqjets_{file}.npz\"\n",
    "    gluon_files = f\"inputs_to_NP/herwig/pred_Zglujets_{file}.npz\"\n",
    "    \n",
    "    # Load data from quark and gluon files\n",
    "    X_quark, y_quark = load_data(quark_files)\n",
    "    X_gluon, y_gluon = load_data(gluon_files)\n",
    "    \n",
    "    # Concatenate quark and gluon data\n",
    "    X = np.vstack((X_quark, X_gluon))\n",
    "    y = np.concatenate((y_quark, y_gluon))\n",
    "\n",
    "    # Shuffle the data\n",
    "    X_shuffled, y_shuffled = shuffle_data(X, y)\n",
    "\n",
    "    # Save the shuffled data into multiple files with a specified number of jets per file\n",
    "    jets_per_file = 5000\n",
    "    save_shuffled_data(X_shuffled, y_shuffled, f\"herwig_hgpflow_shuffled_output_Zqglu_F{file}\", jets_per_file)"
   ]
  }
 ],
 "metadata": {
  "kernelspec": {
   "display_name": "base",
   "language": "python",
   "name": "python3"
  },
  "language_info": {
   "codemirror_mode": {
    "name": "ipython",
    "version": 3
   },
   "file_extension": ".py",
   "mimetype": "text/x-python",
   "name": "python",
   "nbconvert_exporter": "python",
   "pygments_lexer": "ipython3",
   "version": "3.11.9"
  }
 },
 "nbformat": 4,
 "nbformat_minor": 2
}
